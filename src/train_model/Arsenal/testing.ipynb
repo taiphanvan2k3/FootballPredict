{
 "cells": [
  {
   "cell_type": "markdown",
   "metadata": {},
   "source": [
    "### Sử dụng model Random forest và dự đoán trên tập test"
   ]
  },
  {
   "cell_type": "code",
   "execution_count": 1,
   "metadata": {},
   "outputs": [],
   "source": [
    "import pandas as pd\n",
    "import pickle\n",
    "import matplotlib.pyplot as plt\n",
    "import seaborn as sns\n",
    "from sklearn.preprocessing import LabelEncoder\n",
    "from sklearn.metrics import accuracy_score, confusion_matrix\n",
    "\n",
    "\n",
    "import warnings\n",
    "warnings.filterwarnings('ignore')"
   ]
  },
  {
   "cell_type": "markdown",
   "metadata": {},
   "source": [
    "#### 1. Bước chuẩn bị dữ liệu"
   ]
  },
  {
   "cell_type": "code",
   "execution_count": 2,
   "metadata": {},
   "outputs": [],
   "source": [
    "with open(\"final_model/preprocessor.pkl\", \"rb\") as file:\n",
    "    preprocessor = pickle.load(file)"
   ]
  },
  {
   "cell_type": "code",
   "execution_count": 3,
   "metadata": {},
   "outputs": [],
   "source": [
    "with open(\"final_model/RF.pkl\", \"rb\") as file:\n",
    "    RF_model = pickle.load(file)"
   ]
  },
  {
   "cell_type": "code",
   "execution_count": 4,
   "metadata": {},
   "outputs": [],
   "source": [
    "# Load dữ liệu từ tập test\n",
    "test_df = pd.read_csv(\"../../../feature_engineering_data/test/arsenal.csv\")\n",
    "test_df[\"win_percent_diff\"] = test_df['win_percent_before_team1'] - test_df['win_percent_before_team2']\n",
    "test_df[\"ELO_before_diff\"] = test_df['ELO_before_match_team1'] - test_df['ELO_before_match_team2']"
   ]
  },
  {
   "cell_type": "code",
   "execution_count": 5,
   "metadata": {},
   "outputs": [
    {
     "data": {
      "text/plain": [
       "Index(['opponent', 'venue', 'season', 'result', 'win_percent_before_team1',\n",
       "       'lose_percent_before_team1', 'draw_percent_before_team1',\n",
       "       'win_percent_before_team2', 'lose_percent_before_team2',\n",
       "       'draw_percent_before_team2', 'total_goals_before_team1',\n",
       "       'total_lost_goals_before_team1', 'total_goals_before_team2',\n",
       "       'total_lost_goals_before_team2', 'ELO_before_match_team1',\n",
       "       'ELO_before_match_team2', 'ELO_after_match_team1',\n",
       "       'ELO_after_match_team2', 'average_score_before_match_team1',\n",
       "       'average_score_before_match_team2', 'date_time',\n",
       "       'head2head_win_percent', 'head2head_draw_percent',\n",
       "       'head2head_lost_percent', 'is_opponent_big6', 'win_percent_diff',\n",
       "       'ELO_before_diff'],\n",
       "      dtype='object')"
      ]
     },
     "execution_count": 5,
     "metadata": {},
     "output_type": "execute_result"
    }
   ],
   "source": [
    "test_df.columns"
   ]
  },
  {
   "cell_type": "code",
   "execution_count": 6,
   "metadata": {},
   "outputs": [
    {
     "data": {
      "image/png": "[encoded data removed]",
      "text/plain": [
       "<Figure size 640x480 with 1 Axes>"
      ]
     },
     "metadata": {},
     "output_type": "display_data"
    }
   ],
   "source": [
    "sns.countplot(x=\"result\", data=test_df, palette=\"Set1\");"
   ]
  },
  {
   "cell_type": "code",
   "execution_count": 7,
   "metadata": {},
   "outputs": [],
   "source": [
    "test_df_with_opponent = test_df[\n",
    "    [\n",
    "        \"opponent\",\n",
    "        \"result\",\n",
    "        \"venue\",\n",
    "        \"season\",\n",
    "        \"win_percent_before_team2\",\n",
    "        \"win_percent_diff\",\n",
    "        \"lose_percent_before_team2\",\n",
    "        \"head2head_win_percent\",\n",
    "        \"head2head_draw_percent\",\n",
    "        \"head2head_lost_percent\",\n",
    "        \"is_opponent_big6\",\n",
    "        \"ELO_before_match_team2\",\n",
    "        \"ELO_before_diff\",\n",
    "        \"average_score_before_match_team2\",\n",
    "    ]\n",
    "]\n",
    "\n",
    "test_df = test_df[\n",
    "    [\n",
    "        \"opponent\",\n",
    "        \"result\",\n",
    "        \"venue\",\n",
    "        \"season\",\n",
    "        \"win_percent_before_team2\",\n",
    "        \"win_percent_diff\",\n",
    "        \"lose_percent_before_team2\",\n",
    "        \"head2head_win_percent\",\n",
    "        \"head2head_draw_percent\",\n",
    "        \"head2head_lost_percent\",\n",
    "        \"is_opponent_big6\",\n",
    "        \"ELO_before_match_team2\",\n",
    "        \"ELO_before_diff\",\n",
    "        \"average_score_before_match_team2\",\n",
    "    ]\n",
    "]"
   ]
  },
  {
   "cell_type": "markdown",
   "metadata": {},
   "source": [
    "##### Phân chia dữ liệu thành X, y"
   ]
  },
  {
   "cell_type": "code",
   "execution_count": 8,
   "metadata": {},
   "outputs": [],
   "source": [
    "X_test = test_df.drop(\"result\", axis=1)\n",
    "y_test = test_df[\"result\"]"
   ]
  },
  {
   "cell_type": "markdown",
   "metadata": {},
   "source": [
    "#### 2. Chuẩn hoá, encoding dữ liệu"
   ]
  },
  {
   "cell_type": "code",
   "execution_count": 9,
   "metadata": {},
   "outputs": [],
   "source": [
    "label_encoder = LabelEncoder()\n",
    "y_test = label_encoder.fit_transform(test_df[\"result\"])"
   ]
  },
  {
   "cell_type": "code",
   "execution_count": 10,
   "metadata": {},
   "outputs": [
    {
     "data": {
      "text/plain": [
       "array([1, 1, 1, 2, 2, 2, 1, 0, 2, 2, 2, 1, 2, 1, 1, 2, 2, 2, 2, 1, 0, 2,\n",
       "       2, 2, 2, 2, 1, 2, 1, 1, 1, 1, 2, 2, 2, 1, 1, 2, 0, 2, 2, 2, 2, 1,\n",
       "       2, 0, 2, 2, 0, 2, 2, 2, 2, 2, 0, 2, 2, 1, 0, 1, 2, 2, 2, 2, 2, 2,\n",
       "       2, 0, 0, 0, 1, 2, 2, 1, 1, 2, 2, 2, 0, 2, 2, 0, 2, 2, 0, 2, 1, 2,\n",
       "       2, 2, 2, 1, 2, 0, 1, 1, 2, 2, 2, 2, 2, 2, 2, 2, 0, 2, 2, 1, 2, 2,\n",
       "       2, 2, 2, 2])"
      ]
     },
     "execution_count": 10,
     "metadata": {},
     "output_type": "execute_result"
    }
   ],
   "source": [
    "# D: 0\n",
    "# L: 1\n",
    "# W: 2\n",
    "y_test"
   ]
  },
  {
   "cell_type": "code",
   "execution_count": 11,
   "metadata": {},
   "outputs": [
    {
     "data": {
      "text/plain": [
       "(Index(['win_percent_before_team2', 'win_percent_diff',\n",
       "        'lose_percent_before_team2', 'head2head_win_percent',\n",
       "        'head2head_draw_percent', 'head2head_lost_percent', 'is_opponent_big6',\n",
       "        'ELO_before_match_team2', 'ELO_before_diff',\n",
       "        'average_score_before_match_team2'],\n",
       "       dtype='object'),\n",
       " Index(['opponent', 'venue', 'season'], dtype='object'))"
      ]
     },
     "execution_count": 11,
     "metadata": {},
     "output_type": "execute_result"
    }
   ],
   "source": [
    "# Xác định các cột phân loại và cột số\n",
    "categorical_cols = X_test.select_dtypes(include=['object', 'category']).columns\n",
    "numerical_cols = X_test.select_dtypes(include=['int64', 'float64']).columns\n",
    "\n",
    "numerical_cols, categorical_cols"
   ]
  },
  {
   "cell_type": "code",
   "execution_count": 12,
   "metadata": {},
   "outputs": [],
   "source": [
    "transformed_X = preprocessor.transform(X_test)\n",
    "\n",
    "# Hiển thị dữ liệu sau khi tiền xử lý\n",
    "columns = (\n",
    "    list(preprocessor.named_transformers_[\"venue\"].get_feature_names_out())\n",
    "    + list(preprocessor.named_transformers_[\"season\"].get_feature_names_out())\n",
    "    + numerical_cols.tolist()\n",
    ")\n",
    "\n",
    "transformed_X = pd.DataFrame(transformed_X, columns=columns)\n",
    "transformed_X.head()\n",
    "\n",
    "X_test = transformed_X"
   ]
  },
  {
   "cell_type": "markdown",
   "metadata": {},
   "source": [
    "##### Convert mùa giải mới (2023-2024) chưa có trong tập train thành binary"
   ]
  },
  {
   "cell_type": "code",
   "execution_count": 13,
   "metadata": {},
   "outputs": [],
   "source": [
    "def int_to_binary_array(number, num_bits):\n",
    "    binary_string = bin(number)[2:]  # Chuyển đổi thành chuỗi nhị phân, bỏ qua '0b' ở đầu\n",
    "    binary_array = [int(bit) for bit in binary_string]  # Chuyển đổi mỗi ký tự của chuỗi thành một số nguyên\n",
    "    \n",
    "    # Điền vào các số 0 phía trước nếu cần thiết để đủ số lượng bit\n",
    "    while len(binary_array) < num_bits:\n",
    "        binary_array.insert(0, 0)\n",
    "    return binary_array"
   ]
  },
  {
   "cell_type": "code",
   "execution_count": 14,
   "metadata": {},
   "outputs": [
    {
     "data": {
      "text/html": [
       "<div>\n",
       "<style scoped>\n",
       "    .dataframe tbody tr th:only-of-type {\n",
       "        vertical-align: middle;\n",
       "    }\n",
       "\n",
       "    .dataframe tbody tr th {\n",
       "        vertical-align: top;\n",
       "    }\n",
       "\n",
       "    .dataframe thead th {\n",
       "        text-align: right;\n",
       "    }\n",
       "</style>\n",
       "<table border=\"1\" class=\"dataframe\">\n",
       "  <thead>\n",
       "    <tr style=\"text-align: right;\">\n",
       "      <th></th>\n",
       "      <th>venue_Away</th>\n",
       "      <th>venue_Home</th>\n",
       "      <th>season_0</th>\n",
       "      <th>season_1</th>\n",
       "      <th>season_2</th>\n",
       "      <th>season_3</th>\n",
       "      <th>season_4</th>\n",
       "      <th>win_percent_before_team2</th>\n",
       "      <th>win_percent_diff</th>\n",
       "      <th>lose_percent_before_team2</th>\n",
       "      <th>head2head_win_percent</th>\n",
       "      <th>head2head_draw_percent</th>\n",
       "      <th>head2head_lost_percent</th>\n",
       "      <th>is_opponent_big6</th>\n",
       "      <th>ELO_before_match_team2</th>\n",
       "      <th>ELO_before_diff</th>\n",
       "      <th>average_score_before_match_team2</th>\n",
       "    </tr>\n",
       "  </thead>\n",
       "  <tbody>\n",
       "    <tr>\n",
       "      <th>0</th>\n",
       "      <td>1.0</td>\n",
       "      <td>0.0</td>\n",
       "      <td>1</td>\n",
       "      <td>1</td>\n",
       "      <td>0</td>\n",
       "      <td>0</td>\n",
       "      <td>0</td>\n",
       "      <td>-1.369793</td>\n",
       "      <td>-0.509837</td>\n",
       "      <td>-1.430191</td>\n",
       "      <td>-1.962036</td>\n",
       "      <td>-1.160168</td>\n",
       "      <td>-0.949541</td>\n",
       "      <td>-0.595178</td>\n",
       "      <td>0.026866</td>\n",
       "      <td>-0.823808</td>\n",
       "      <td>-1.807943</td>\n",
       "    </tr>\n",
       "    <tr>\n",
       "      <th>1</th>\n",
       "      <td>0.0</td>\n",
       "      <td>1.0</td>\n",
       "      <td>1</td>\n",
       "      <td>1</td>\n",
       "      <td>0</td>\n",
       "      <td>0</td>\n",
       "      <td>0</td>\n",
       "      <td>2.398592</td>\n",
       "      <td>-3.386673</td>\n",
       "      <td>-1.430191</td>\n",
       "      <td>-0.498929</td>\n",
       "      <td>0.383278</td>\n",
       "      <td>0.585860</td>\n",
       "      <td>1.680169</td>\n",
       "      <td>0.207858</td>\n",
       "      <td>-1.083489</td>\n",
       "      <td>2.241178</td>\n",
       "    </tr>\n",
       "    <tr>\n",
       "      <th>2</th>\n",
       "      <td>1.0</td>\n",
       "      <td>0.0</td>\n",
       "      <td>1</td>\n",
       "      <td>1</td>\n",
       "      <td>0</td>\n",
       "      <td>0</td>\n",
       "      <td>0</td>\n",
       "      <td>0.514399</td>\n",
       "      <td>-1.948255</td>\n",
       "      <td>0.549578</td>\n",
       "      <td>-1.962036</td>\n",
       "      <td>-0.645686</td>\n",
       "      <td>3.656663</td>\n",
       "      <td>1.680169</td>\n",
       "      <td>0.096995</td>\n",
       "      <td>-1.090165</td>\n",
       "      <td>0.216618</td>\n",
       "    </tr>\n",
       "    <tr>\n",
       "      <th>3</th>\n",
       "      <td>0.0</td>\n",
       "      <td>1.0</td>\n",
       "      <td>1</td>\n",
       "      <td>1</td>\n",
       "      <td>0</td>\n",
       "      <td>0</td>\n",
       "      <td>0</td>\n",
       "      <td>-1.369793</td>\n",
       "      <td>-0.509837</td>\n",
       "      <td>2.529346</td>\n",
       "      <td>0.232624</td>\n",
       "      <td>0.383278</td>\n",
       "      <td>-0.437740</td>\n",
       "      <td>-0.595178</td>\n",
       "      <td>-0.467642</td>\n",
       "      <td>-0.851362</td>\n",
       "      <td>-1.807943</td>\n",
       "    </tr>\n",
       "    <tr>\n",
       "      <th>4</th>\n",
       "      <td>1.0</td>\n",
       "      <td>0.0</td>\n",
       "      <td>1</td>\n",
       "      <td>1</td>\n",
       "      <td>0</td>\n",
       "      <td>0</td>\n",
       "      <td>0</td>\n",
       "      <td>-1.369793</td>\n",
       "      <td>0.209372</td>\n",
       "      <td>1.539462</td>\n",
       "      <td>0.598401</td>\n",
       "      <td>-0.131204</td>\n",
       "      <td>-0.437740</td>\n",
       "      <td>-0.595178</td>\n",
       "      <td>-0.499034</td>\n",
       "      <td>-0.724754</td>\n",
       "      <td>-1.470516</td>\n",
       "    </tr>\n",
       "  </tbody>\n",
       "</table>\n",
       "</div>"
      ],
      "text/plain": [
       "   venue_Away  venue_Home  season_0  season_1  season_2  season_3  season_4  \\\n",
       "0         1.0         0.0         1         1         0         0         0   \n",
       "1         0.0         1.0         1         1         0         0         0   \n",
       "2         1.0         0.0         1         1         0         0         0   \n",
       "3         0.0         1.0         1         1         0         0         0   \n",
       "4         1.0         0.0         1         1         0         0         0   \n",
       "\n",
       "   win_percent_before_team2  win_percent_diff  lose_percent_before_team2  \\\n",
       "0                 -1.369793         -0.509837                  -1.430191   \n",
       "1                  2.398592         -3.386673                  -1.430191   \n",
       "2                  0.514399         -1.948255                   0.549578   \n",
       "3                 -1.369793         -0.509837                   2.529346   \n",
       "4                 -1.369793          0.209372                   1.539462   \n",
       "\n",
       "   head2head_win_percent  head2head_draw_percent  head2head_lost_percent  \\\n",
       "0              -1.962036               -1.160168               -0.949541   \n",
       "1              -0.498929                0.383278                0.585860   \n",
       "2              -1.962036               -0.645686                3.656663   \n",
       "3               0.232624                0.383278               -0.437740   \n",
       "4               0.598401               -0.131204               -0.437740   \n",
       "\n",
       "   is_opponent_big6  ELO_before_match_team2  ELO_before_diff  \\\n",
       "0         -0.595178                0.026866        -0.823808   \n",
       "1          1.680169                0.207858        -1.083489   \n",
       "2          1.680169                0.096995        -1.090165   \n",
       "3         -0.595178               -0.467642        -0.851362   \n",
       "4         -0.595178               -0.499034        -0.724754   \n",
       "\n",
       "   average_score_before_match_team2  \n",
       "0                         -1.807943  \n",
       "1                          2.241178  \n",
       "2                          0.216618  \n",
       "3                         -1.807943  \n",
       "4                         -1.470516  "
      ]
     },
     "execution_count": 14,
     "metadata": {},
     "output_type": "execute_result"
    }
   ],
   "source": [
    "X_test[[\"season_0\", \"season_1\", \"season_2\", \"season_3\", \"season_4\"]] = int_to_binary_array(24, 5)\n",
    "X_test.head()"
   ]
  },
  {
   "cell_type": "code",
   "execution_count": 15,
   "metadata": {},
   "outputs": [
    {
     "data": {
      "text/plain": [
       "Index(['venue_Away', 'venue_Home', 'season_0', 'season_1', 'season_2',\n",
       "       'season_3', 'season_4', 'win_percent_before_team2', 'win_percent_diff',\n",
       "       'lose_percent_before_team2', 'head2head_win_percent',\n",
       "       'head2head_draw_percent', 'head2head_lost_percent', 'is_opponent_big6',\n",
       "       'ELO_before_match_team2', 'ELO_before_diff',\n",
       "       'average_score_before_match_team2'],\n",
       "      dtype='object')"
      ]
     },
     "execution_count": 15,
     "metadata": {},
     "output_type": "execute_result"
    }
   ],
   "source": [
    "X_test.columns"
   ]
  },
  {
   "cell_type": "markdown",
   "metadata": {},
   "source": [
    "Index(['venue_Away', 'venue_Home', 'season_0', 'season_1', 'season_2',\n",
    "       'season_3', 'season_4', 'win_percent_before_team2', 'win_percent_diff',\n",
    "       'lose_percent_before_team2', 'head2head_win_percent',\n",
    "       'head2head_draw_percent', 'head2head_lost_percent', 'is_opponent_big6',\n",
    "       'ELO_before_match_team2', 'ELO_before_diff',\n",
    "       'average_score_before_match_team2'],"
   ]
  },
  {
   "cell_type": "markdown",
   "metadata": {},
   "source": [
    "#### Testing"
   ]
  },
  {
   "cell_type": "code",
   "execution_count": 16,
   "metadata": {},
   "outputs": [],
   "source": [
    "y_pred = RF_model.predict(X_test)\n",
    "results = pd.DataFrame({\n",
    "    'Actual': y_test,\n",
    "    'Predicted': y_pred\n",
    "})\n",
    "\n",
    "# Thêm cột kết quả dự đoán vào sau cột thứ 1 của dataframe\n",
    "test_df.insert(1, \"Predicted\", label_encoder.inverse_transform(y_pred))\n",
    "test_df_with_opponent.insert(2, \"Predicted\", label_encoder.inverse_transform(y_pred))\n",
    "\n",
    "test_df_with_opponent.to_csv(\"test_results.csv\", index=False)"
   ]
  },
  {
   "cell_type": "markdown",
   "metadata": {},
   "source": [
    "### Confusion matrix"
   ]
  },
  {
   "cell_type": "code",
   "execution_count": 17,
   "metadata": {},
   "outputs": [
    {
     "data": {
      "text/plain": [
       "array([[ 5,  2,  8],\n",
       "       [ 5,  7, 14],\n",
       "       [ 6,  4, 63]], dtype=int64)"
      ]
     },
     "execution_count": 17,
     "metadata": {},
     "output_type": "execute_result"
    }
   ],
   "source": [
    "# Tính confusion matrix\n",
    "cm = confusion_matrix(y_test, y_pred, labels=RF_model.classes_)\n",
    "cm"
   ]
  },
  {
   "cell_type": "code",
   "execution_count": 18,
   "metadata": {},
   "outputs": [
    {
     "name": "stdout",
     "output_type": "stream",
     "text": [
      "Accuracy: 0.6578947368421053\n"
     ]
    }
   ],
   "source": [
    "# Tính toán accuracy\n",
    "accuracy = accuracy_score(y_test, y_pred)\n",
    "print(f\"Accuracy: {accuracy}\")"
   ]
  },
  {
   "cell_type": "code",
   "execution_count": 19,
   "metadata": {},
   "outputs": [
    {
     "data": {
      "image/png": "[encoded data removed]",
      "text/plain": [
       "<Figure size 1000x700 with 2 Axes>"
      ]
     },
     "metadata": {},
     "output_type": "display_data"
    }
   ],
   "source": [
    "# Định nghĩa lại nhãn theo thứ tự mong muốn\n",
    "original_labels = ['Draw', 'Lose', 'Win']\n",
    "desired_labels = ['Win', 'Lose', 'Draw']\n",
    "label_mapping = {label: i for i, label in enumerate(original_labels)}\n",
    "desired_indices = [label_mapping[label] for label in desired_labels]\n",
    "cm = cm[desired_indices][:, desired_indices]\n",
    "\n",
    "plt.figure(figsize=(10, 7))\n",
    "sns.heatmap(cm, annot=True, fmt='d', cmap='Blues', xticklabels=desired_labels, yticklabels=desired_labels)\n",
    "plt.xlabel('Predicted')\n",
    "plt.ylabel('Actual')\n",
    "plt.title('Confusion Matrix')\n",
    "plt.show()"
   ]
  },
  {
   "cell_type": "code",
   "execution_count": 20,
   "metadata": {},
   "outputs": [],
   "source": [
    "results_df = pd.DataFrame(test_df[\"Predicted\"] == test_df[\"result\"], columns=[\"Correct\"])"
   ]
  }
 ],
 "metadata": {
  "kernelspec": {
   "display_name": "base",
   "language": "python",
   "name": "python3"
  },
  "language_info": {
   "codemirror_mode": {
    "name": "ipython",
    "version": 3
   },
   "file_extension": ".py",
   "mimetype": "text/x-python",
   "name": "python",
   "nbconvert_exporter": "python",
   "pygments_lexer": "ipython3",
   "version": "3.10.6"
  }
 },
 "nbformat": 4,
 "nbformat_minor": 2
}
